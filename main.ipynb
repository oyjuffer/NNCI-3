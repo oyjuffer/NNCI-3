{
 "cells": [
  {
   "cell_type": "markdown",
   "metadata": {},
   "source": [
    "# NNCL ASSIGNMENT 3"
   ]
  },
  {
   "cell_type": "markdown",
   "metadata": {},
   "source": [
    "## Libraries"
   ]
  },
  {
   "cell_type": "code",
   "execution_count": 17,
   "metadata": {},
   "outputs": [],
   "source": [
    "import numpy as np\n",
    "import pandas as pd\n",
    "import matplotlib.pyplot as plt"
   ]
  },
  {
   "cell_type": "markdown",
   "metadata": {},
   "source": [
    "## Neural Network"
   ]
  },
  {
   "cell_type": "code",
   "execution_count": 18,
   "metadata": {},
   "outputs": [],
   "source": [
    "class Network:\n",
    "    def __init__(self, P, Q, N, K, learning_rate):\n",
    "        self.P = P                      # Number of input samples\n",
    "        self.Q = Q                      # Number of test samples\n",
    "        self.N = N                      # Number of neurons in the input layer\n",
    "        self.K = K                      # Number of neurons in the hidden layer\n",
    "        self.eta = learning_rate        # Learning rate for the neural network\n",
    "        self.W = self.initWeights()     # Weights from input layer to hidden layer\n",
    "        self.V = np.ones((1, self.K))   # Weights from hidden layer to output layer, initialized to 1\n",
    "\n",
    "    def initWeights(self):\n",
    "        \"\"\"\n",
    "        This function initializes the weights of the neural network.\t\n",
    "        \"\"\"\n",
    "        # Generate random weights for each neuron in the hidden layer\n",
    "        weights = np.random.randn(self.N, self.K)\n",
    "\n",
    "        # Calculate the squared norm (length) of each weight vector\n",
    "        norms_squared = np.linalg.norm(weights, axis=1, keepdims=True) ** 2\n",
    "\n",
    "        # Normalize each weight vector to have a length of 1\n",
    "        normalized_weights = weights / norms_squared\n",
    "\n",
    "        return normalized_weights\n",
    "\n",
    "    def forwardPass(self, x):\n",
    "        \"\"\"\n",
    "        This function performs the forward pass of a neural network with a single hidden layer.\n",
    "        It uses the tanh activation function for the hidden layer neurons.\n",
    "        \"\"\"\n",
    "        # Calculate the dot product of the input vector 'x' and the transpose of the weight matrix 'W' of the first layer.\n",
    "        dot_product = np.dot(self.W.T, x)\n",
    "\n",
    "        # Apply the hyperbolic tangent function element-wise to the result of the dot product.\n",
    "        tanh_result = np.tanh(dot_product)\n",
    "\n",
    "        # Calculate the output of the network ('sigma') by multiplying the output weights 'V' with the tanh_result and summing the result.\n",
    "        sigma = np.sum(self.V * tanh_result)\n",
    "\n",
    "        # Return the output of the network for the given input 'x'.\n",
    "        return sigma\n",
    "\n",
    "    def stochasticGradientDescent(self, sigma, xi, tau):\n",
    "        \"\"\"\n",
    "        Stochastic gradient descent\n",
    "        \"\"\"\n",
    "        # Use the gradient with respect to its contribution to the error\n",
    "        for i in range(self.K):\n",
    "            gradient = (sigma - tau) * (1 - np.tanh(np.dot(self.W[:, i], xi)) ** 2)\n",
    "            # Update the weights\n",
    "            self.W[:, i] = self.W[:, i] - self.eta * gradient * xi\n",
    "\n",
    "    def calculateError(self, sigma, tau):\n",
    "        \"\"\"\n",
    "        This function calculates the error of the neural network's output.\n",
    "        The error is defined as the half of the squared difference between the network's output (sigma) and the target value (tau).\n",
    "        \"\"\"\n",
    "        # Compute the error\n",
    "        return ((sigma - tau) ** 2) / 2\n",
    "\n",
    "    def train(self, t_max, train_set, test_set):\n",
    "        \"\"\"\n",
    "        Train the network using stochastic gradient descent.\n",
    "        \"\"\"\n",
    "        # Initialize lists to store training and testing errors\n",
    "        train_err = []\n",
    "        test_err = []\n",
    "\n",
    "        # Run the training for t_max epochs\n",
    "        for epoch in range(t_max):\n",
    "            # Initialize error trackers for the current epoch\n",
    "            epoch_error = 0\n",
    "            epoch_error_test = 0\n",
    "\n",
    "            # For each training sample in a random order\n",
    "            for index in np.random.permutation(self.P):\n",
    "                xi, tau = train_set[index]  # Get input and target output\n",
    "                sigma = self.forwardPass(xi)  # Perform forward pass\n",
    "                epoch_error += self.calculateError(sigma, tau)  # Calculate and accumulate error\n",
    "                self.stochasticGradientDescent(sigma, xi, tau)  # Update weights using SGD\n",
    "\n",
    "            # Calculate average training error for the epoch\n",
    "            epoch_error /= self.P\n",
    "\n",
    "            # For each testing sample in a random order\n",
    "            for index in np.random.permutation(self.Q):\n",
    "                xi, tau = test_set[index]  # Get input and target output\n",
    "                sigma = self.forwardPass(xi)  # Perform forward pass\n",
    "                epoch_error_test += self.calculateError(sigma, tau)  # Calculate and accumulate error\n",
    "\n",
    "            # Calculate average testing error for the epoch\n",
    "            epoch_error_test /= self.Q\n",
    "\n",
    "            # Store the average errors for this epoch\n",
    "            train_err.append(epoch_error)\n",
    "            test_err.append(epoch_error_test)\n",
    "\n",
    "            # Print the average errors for this epoch\n",
    "            print(f\"Epoch: {epoch}, Error: {epoch_error.item()}, Test Error: {epoch_error_test.item()}\")\n",
    "\n",
    "        # Return the list of average training and testing errors for each epoch\n",
    "        return train_err, test_err"
   ]
  },
  {
   "cell_type": "markdown",
   "metadata": {},
   "source": [
    "## Run Networks"
   ]
  },
  {
   "cell_type": "code",
   "execution_count": 19,
   "metadata": {},
   "outputs": [
    {
     "name": "stdout",
     "output_type": "stream",
     "text": [
      "Epoch: 0, Error: 0.690634436596336, Test Error: 0.790795300508299\n",
      "Epoch: 1, Error: 0.4498310243764398, Test Error: 0.5888627505956324\n",
      "Epoch: 2, Error: 0.3390018106970807, Test Error: 0.46908992293222845\n",
      "Epoch: 3, Error: 0.2690237119945436, Test Error: 0.39862791768842576\n",
      "Epoch: 4, Error: 0.19992741413869894, Test Error: 0.34616533408582645\n",
      "Epoch: 5, Error: 0.1752108015632277, Test Error: 0.27485329508154577\n",
      "Epoch: 6, Error: 0.15721333463536102, Test Error: 0.2592674525211151\n",
      "Epoch: 7, Error: 0.12759396188946082, Test Error: 0.23263707225388486\n",
      "Epoch: 8, Error: 0.11799323233077377, Test Error: 0.23647409217482315\n",
      "Epoch: 9, Error: 0.11042976101068086, Test Error: 0.21965779320821052\n",
      "Epoch: 10, Error: 0.1016689143824685, Test Error: 0.22412621890473172\n",
      "Epoch: 11, Error: 0.10011014922565836, Test Error: 0.21110906918043398\n",
      "Epoch: 12, Error: 0.0982948507784715, Test Error: 0.20636067730788593\n",
      "Epoch: 13, Error: 0.09561352112061167, Test Error: 0.18940127393478184\n",
      "Epoch: 14, Error: 0.0891672063884678, Test Error: 0.18666124970885245\n",
      "Epoch: 15, Error: 0.08615100324639519, Test Error: 0.18552962194215458\n",
      "Epoch: 16, Error: 0.08480399849673569, Test Error: 0.18224522016830405\n",
      "Epoch: 17, Error: 0.08419055412911788, Test Error: 0.18431937766472647\n",
      "Epoch: 18, Error: 0.08377688262826424, Test Error: 0.18612126024532935\n",
      "Epoch: 19, Error: 0.08319437444295519, Test Error: 0.1861323032753257\n"
     ]
    }
   ],
   "source": [
    "# Load input data from CSV file\n",
    "xi = pd.read_csv(\"data/xi.csv\", delimiter=\",\", header=None)\n",
    "\n",
    "# Load target output data from CSV file\n",
    "tau = pd.read_csv(\"data/tau.csv\", delimiter=\",\", header=None)\n",
    "\n",
    "# Combine input and target output data into a dataset of (input, target) pairs\n",
    "dataset = [(xi.iloc[:, i], tau.iloc[:, i][0]) for i in range(5000)]\n",
    "\n",
    "# Define network parameters\n",
    "P = 400  # Number of training samples\n",
    "Q = 100  # Number of testing samples\n",
    "N = 50   # Input dimensionality\n",
    "K = 2    # Number of neurons in the hidden layer\n",
    "\n",
    "# Split dataset into training and testing sets\n",
    "train_set = dataset[:P]\n",
    "test_set = dataset[P:P+Q]\n",
    "\n",
    "# Initialize network with specified parameters and learning rate\n",
    "network = Network(P=P, Q=Q, N=N, K=K, learning_rate=0.05)\n",
    "\n",
    "# Train the network and retrieve training and testing errors\n",
    "train_err, test_err = network.train(t_max=20, train_set=train_set, test_set=test_set)"
   ]
  },
  {
   "cell_type": "markdown",
   "metadata": {},
   "source": [
    "## Plot the Results"
   ]
  },
  {
   "cell_type": "code",
   "execution_count": 20,
   "metadata": {},
   "outputs": [
    {
     "data": {
      "image/png": "[encoded data removed]",
      "text/plain": [
       "<Figure size 640x480 with 1 Axes>"
      ]
     },
     "metadata": {},
     "output_type": "display_data"
    }
   ],
   "source": [
    "# Plot the training and testing errors over epochs\n",
    "plt.plot(train_err, label=\"Training Error\")\n",
    "plt.plot(test_err, label=\"Testing Error\")\n",
    "\n",
    "# Add a legend to the plot\n",
    "plt.legend()\n",
    "\n",
    "# Display the plot\n",
    "plt.show()"
   ]
  }
 ],
 "metadata": {
  "kernelspec": {
   "display_name": ".venv",
   "language": "python",
   "name": "python3"
  },
  "language_info": {
   "codemirror_mode": {
    "name": "ipython",
    "version": 3
   },
   "file_extension": ".py",
   "mimetype": "text/x-python",
   "name": "python",
   "nbconvert_exporter": "python",
   "pygments_lexer": "ipython3",
   "version": "3.11.7"
  }
 },
 "nbformat": 4,
 "nbformat_minor": 2
}
