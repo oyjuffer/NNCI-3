{
 "cells": [
  {
   "cell_type": "markdown",
   "metadata": {},
   "source": [
    "## NNCL ASSIGNMENT 3"
   ]
  },
  {
   "cell_type": "code",
   "execution_count": 8,
   "metadata": {},
   "outputs": [],
   "source": [
    "import numpy as np\n",
    "import pandas as pd"
   ]
  },
  {
   "cell_type": "code",
   "execution_count": 28,
   "metadata": {},
   "outputs": [
    {
     "name": "stdout",
     "output_type": "stream",
     "text": [
      "[[-0.48227809  0.16653287]\n",
      " [ 0.63733538  0.25250545]\n",
      " [-0.52207763 -1.4284051 ]\n",
      " [ 1.18167739  0.72979944]\n",
      " [-0.64525622  0.47051978]\n",
      " [-0.31646666  0.35584598]\n",
      " [-2.20900186 -0.65197076]\n",
      " [ 0.65820678 -0.16332731]\n",
      " [ 0.19113924 -0.4248115 ]\n",
      " [-0.22830683 -0.73065225]\n",
      " [-1.37612038 -0.53754095]\n",
      " [-0.16972584  0.46125064]\n",
      " [-0.50329546  0.35080376]\n",
      " [-0.54916901  1.18104472]\n",
      " [-0.22277537  0.71085286]\n",
      " [ 0.77778253 -1.28088266]\n",
      " [ 0.63114419 -0.07737737]\n",
      " [-0.42448063  0.31565485]\n",
      " [ 0.62745249 -0.45163261]\n",
      " [ 0.51101468 -0.77927583]\n",
      " [ 0.95360646  0.14908698]\n",
      " [-0.25289787 -0.35455075]\n",
      " [ 0.36639564 -0.22758517]\n",
      " [ 0.24339434 -0.2243209 ]\n",
      " [ 0.18316706  0.37833658]\n",
      " [ 0.84817154  0.69594224]\n",
      " [ 0.2111833  -0.41601352]\n",
      " [-1.56718242  0.20706449]\n",
      " [-0.1875255  -0.34102285]\n",
      " [ 1.30373965  0.99431292]\n",
      " [-1.40257134  0.51960765]\n",
      " [-0.11826259 -0.42874719]\n",
      " [ 0.81149417  0.32276425]\n",
      " [ 0.23097114  0.39966302]\n",
      " [-0.6474575  -0.55768825]\n",
      " [-0.44776691  0.27176482]\n",
      " [ 0.31339465 -1.25842197]\n",
      " [-0.25919872  0.3743911 ]\n",
      " [-0.96532598  0.93110837]\n",
      " [ 0.85512436 -0.5331048 ]\n",
      " [-0.35536049  1.38725139]\n",
      " [ 0.48637948  0.07819032]\n",
      " [ 0.65422863  0.15683389]\n",
      " [ 0.34205698  0.2466091 ]\n",
      " [-1.56807149 -0.70171044]\n",
      " [-1.14379483  1.08796742]\n",
      " [-0.52299452  0.08855995]\n",
      " [ 0.20799766 -1.5316227 ]\n",
      " [-0.69738969 -0.42551799]\n",
      " [ 0.02379735 -0.52547385]]\n",
      "[[1. 1.]]\n"
     ]
    }
   ],
   "source": [
    "class Network:\n",
    "    def __init__(self, N, K):\n",
    "        self.N = N\n",
    "        self.K = K\n",
    "        self.W1 = self.initWeights1()\n",
    "        self.W2 = np.ones((1, self.K))\n",
    "\n",
    "    def initWeights1(self):\n",
    "        \n",
    "        # generate random vectors and normalize each vector to have a norm of 1\n",
    "        weights = np.random.randn(self.N, self.K)\n",
    "        norms_squared = np.linalg.norm(weights, axis=1, keepdims=True)**2\n",
    "        normalized_weights = weights / norms_squared\n",
    "\n",
    "        return normalized_weights\n",
    "    \n",
    "    def forwardPass(self, x):\n",
    "        \"\"\"\n",
    "        Tanh activation function. \n",
    "        \"\"\"\n",
    "        \n",
    "        # Calculate the dot product of the first-layer weights and the input\n",
    "        dot_product = np.dot(self.W1, x)\n",
    "\n",
    "        # Apply hyperbolic tangent element-wise and sum for sigma. \n",
    "        tanh_result = np.tanh(dot_product)\n",
    "        sigma = np.sum(self.v_k * tanh_result)\n",
    "\n",
    "        return sigma\n",
    "\n",
    "    def SGD(self):\n",
    "        pass\n",
    "\n",
    "    def train(self):\n",
    "        pass\n",
    "\n",
    "\n",
    "xi = pd.read_csv(\"data\\\\xi.csv\", delimiter=',', header=None)\n",
    "tau = pd.read_csv(\"data\\\\tau.csv\", delimiter=',', header=None)\n",
    "dataset = (xi, tau)\n",
    "\n",
    "n = len(dataset[0][0])\n",
    "k = 2\n",
    "\n",
    "network = Network(n, k)"
   ]
  }
 ],
 "metadata": {
  "kernelspec": {
   "display_name": ".venv",
   "language": "python",
   "name": "python3"
  },
  "language_info": {
   "codemirror_mode": {
    "name": "ipython",
    "version": 3
   },
   "file_extension": ".py",
   "mimetype": "text/x-python",
   "name": "python",
   "nbconvert_exporter": "python",
   "pygments_lexer": "ipython3",
   "version": "3.11.7"
  }
 },
 "nbformat": 4,
 "nbformat_minor": 2
}
